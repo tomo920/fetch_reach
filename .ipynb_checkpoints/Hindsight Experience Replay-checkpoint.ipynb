{
 "cells": [
  {
   "cell_type": "code",
   "execution_count": 1,
   "metadata": {},
   "outputs": [
    {
     "name": "stderr",
     "output_type": "stream",
     "text": [
      "/home/user/anaconda3/lib/python3.6/site-packages/h5py/__init__.py:36: FutureWarning: Conversion of the second argument of issubdtype from `float` to `np.floating` is deprecated. In future, it will be treated as `np.float64 == np.dtype(float).type`.\n",
      "  from ._conv import register_converters as _register_converters\n"
     ]
    }
   ],
   "source": [
    "import numpy as np\n",
    "import matplotlib.pyplot as plt\n",
    "import tensorflow as tf\n",
    "import time\n",
    "import random"
   ]
  },
  {
   "cell_type": "code",
   "execution_count": 2,
   "metadata": {},
   "outputs": [],
   "source": [
    "class Episode_experience():\n",
    "    def __init__(self):\n",
    "        self.memory = []\n",
    "        \n",
    "    def add(self, state, action, reward, next_state, done, goal):\n",
    "        self.memory += [(state, action, reward, next_state, done, goal)]\n",
    "        \n",
    "    def clear(self):\n",
    "        self.memory = []\n",
    "        \n",
    "class DQNAgent():\n",
    "    def __init__(self, state_size, action_size, goal_size, use_double_dqn=True, clip_target_value=True):\n",
    "        self.state_size = state_size\n",
    "        self.goal_size = goal_size\n",
    "        self.action_size = action_size\n",
    "        self.use_double_dqn = use_double_dqn\n",
    "        self.clip_target_value = clip_target_value\n",
    "        self.memory = []\n",
    "        self.epsilon = 0.2 # exploration\n",
    "        self.epsilon_min = 0.02 # min exploration\n",
    "        self.epsilon_decay = 0.95\n",
    "        self.tau = 0.95 # target net update weight\n",
    "        self.gamma = 0.98\n",
    "        self.batch_size = 128\n",
    "        self.learning_rate = 1e-3\n",
    "        self.buffer_size = int(1e6)\n",
    "        self._set_model()\n",
    "        \n",
    "    def _set_model(self): # set value network\n",
    "        tf.reset_default_graph()\n",
    "        self.sess = tf.Session()\n",
    "        \n",
    "        self.tfs = tf.placeholder(tf.float32, [None, self.state_size], 'state')\n",
    "        self.tfs_ = tf.placeholder(tf.float32, [None, self.state_size], 'next_state')\n",
    "        self.tfg = tf.placeholder(tf.float32, [None, self.goal_size], 'goal')\n",
    "        self.tfa = tf.placeholder(tf.int32, [None, ], 'action')\n",
    "        self.tfr = tf.placeholder(tf.float32, [None, ], 'reward')\n",
    "        self.tfd = tf.placeholder(tf.float32, [None, ], 'done')\n",
    "        \n",
    "        def _build_qnet(state, scope, trainable, reuse):\n",
    "            with tf.variable_scope(scope, reuse=reuse):\n",
    "                net = tf.layers.dense(tf.concat([state, self.tfg], axis=1), 256, activation=tf.nn.relu, trainable=trainable)\n",
    "                q = tf.layers.dense(net, self.action_size, trainable=trainable)\n",
    "            return q, tf.get_collection(tf.GraphKeys.GLOBAL_VARIABLES, scope=scope)\n",
    "        \n",
    "        self.q_eval, e_params = _build_qnet(self.tfs, 'eval', trainable=True, reuse=False)\n",
    "        self.q_targ, t_params = _build_qnet(self.tfs_, 'target', trainable=False, reuse=False)\n",
    "        \n",
    "        self.update_op = [tf.assign(t, self.tau*e+(1-self.tau)*t) for t, e in zip(t_params, e_params)] # soft update\n",
    "\n",
    "        if self.use_double_dqn:\n",
    "            q_eval_next, _ = _build_qnet(self.tfs_, 'eval', trainable=True, reuse=True) # reuse the same eval net\n",
    "            q_eval_next_best_action = tf.argmax(q_eval_next, 1)\n",
    "            self.q_target_value = tf.reduce_sum(self.q_targ * tf.one_hot(q_eval_next_best_action, self.action_size), axis=1)\n",
    "        else:\n",
    "            self.q_target_value = tf.reduce_max(self.q_targ, axis=1)\n",
    "            \n",
    "        self.q_target_value = self.tfr + self.gamma * (1-self.tfd) * self.q_target_value\n",
    "        \n",
    "        if self.clip_target_value:\n",
    "            self.q_target_value = tf.clip_by_value(self.q_target_value, -1/(1-self.gamma), 0)\n",
    "        \n",
    "        self.q_eval_action_value = tf.reduce_sum(self.q_eval * tf.one_hot(self.tfa, self.action_size), axis=1)\n",
    "        \n",
    "        self.loss = tf.losses.mean_squared_error(self.q_target_value, self.q_eval_action_value)\n",
    "        self.train_op = tf.train.AdamOptimizer(self.learning_rate).minimize(self.loss)\n",
    "        \n",
    "        self.saver = tf.train.Saver()\n",
    "        \n",
    "        self.sess.run(tf.global_variables_initializer())\n",
    "        \n",
    "    def choose_action(self, state, goal):\n",
    "        if np.random.rand() <= self.epsilon:\n",
    "            return np.random.randint(self.action_size)\n",
    "        act_values = self.sess.run(self.q_eval, {self.tfs: state, self.tfg: goal})\n",
    "        return np.argmax(act_values[0]) # use tf.argmax is much slower, so use np\n",
    "    \n",
    "    def remember(self, ep_experience):\n",
    "        self.memory += ep_experience.memory\n",
    "        if len(self.memory) > self.buffer_size:\n",
    "            self.memory = self.memory[-self.buffer_size:] # empty the first memories\n",
    "        \n",
    "    def replay(self, optimization_steps):\n",
    "        if len(self.memory) < self.batch_size: # if there's no enough transitions, do nothing\n",
    "            return 0\n",
    "        \n",
    "        losses = 0\n",
    "        for _ in range(optimization_steps):\n",
    "            minibatch = np.vstack(random.sample(self.memory, self.batch_size))\n",
    "            ss = np.vstack(minibatch[:,0])\n",
    "            acs = minibatch[:,1]\n",
    "            rs = minibatch[:,2]\n",
    "            nss = np.vstack(minibatch[:,3])\n",
    "            ds = minibatch[:,4]\n",
    "            gs = np.vstack(minibatch[:,5])\n",
    "            \n",
    "            loss, _ = self.sess.run([self.loss, self.train_op], \n",
    "                                    {self.tfs: ss, self.tfg: gs, self.tfa: acs,\n",
    "                                     self.tfr: rs, self.tfs_: nss, self.tfd: ds})\n",
    "            losses += loss\n",
    "            \n",
    "        return losses/optimization_steps # return mean loss\n",
    "    \n",
    "    def update_target_net(self, decay=True):\n",
    "        self.sess.run(self.update_op)\n",
    "        if decay:\n",
    "            self.epsilon = max(self.epsilon*self.epsilon_decay, self.epsilon_min)"
   ]
  },
  {
   "cell_type": "code",
   "execution_count": 3,
   "metadata": {},
   "outputs": [],
   "source": [
    "class BitFlip():\n",
    "    def __init__(self, n, reward_type):\n",
    "        self.n = n # number of bits\n",
    "        self.reward_type = reward_type\n",
    "    def reset(self):\n",
    "        self.goal = np.random.randint(2, size=(self.n)) # a random sequence of 0's and 1's\n",
    "        self.state = np.random.randint(2, size=(self.n)) # another random sequence of 0's and 1's as initial state\n",
    "        return np.copy(self.state), np.copy(self.goal)\n",
    "    def step(self, action):\n",
    "        self.state[action] = 1-self.state[action] # flip this bit\n",
    "        done = np.array_equal(self.state, self.goal)\n",
    "        if self.reward_type == 'sparse':\n",
    "            reward = 0 if done else -1\n",
    "        else:\n",
    "            reward = -np.sum(np.square(self.state-self.goal))\n",
    "        return np.copy(self.state), reward, done\n",
    "    def render(self):\n",
    "        print(\"\\rstate :\", np.array_str(self.state), end=' '*10)"
   ]
  },
  {
   "cell_type": "markdown",
   "metadata": {},
   "source": [
    "# Create agent and environment"
   ]
  },
  {
   "cell_type": "code",
   "execution_count": 4,
   "metadata": {},
   "outputs": [],
   "source": [
    "size = 30\n",
    "env = BitFlip(size, 'sparse')\n",
    "agent = DQNAgent(size, size, size)"
   ]
  },
  {
   "cell_type": "markdown",
   "metadata": {},
   "source": [
    "____\n",
    "# Training"
   ]
  },
  {
   "cell_type": "code",
   "execution_count": 5,
   "metadata": {
    "scrolled": true
   },
   "outputs": [
    {
     "name": "stdout",
     "output_type": "stream",
     "text": [
      "epoch 250 success rate 0.5625 loss 0.08 exploration 0.02          Training time : 585.59 s\n"
     ]
    }
   ],
   "source": [
    "use_her = True # use hindsight experience replay or not\n",
    "num_epochs = 250\n",
    "num_episodes = 16\n",
    "optimization_steps = 40\n",
    "K = 4 # number of random future states\n",
    "\n",
    "losses = []\n",
    "success_rate = []\n",
    "\n",
    "ep_experience = Episode_experience()\n",
    "ep_experience_her = Episode_experience()\n",
    "\n",
    "start = time.clock()\n",
    "for i in range(num_epochs):\n",
    "    successes = 0\n",
    "    for n in range(num_episodes):\n",
    "        state, goal = env.reset()\n",
    "        for t in range(size):\n",
    "            action = agent.choose_action([state], [goal])\n",
    "            next_state, reward, done = env.step(action)\n",
    "            ep_experience.add(state, action, reward, next_state, done, goal)\n",
    "            state = next_state\n",
    "            if done:\n",
    "                break\n",
    "        successes += done\n",
    "\n",
    "        if use_her: # The strategy can be changed here\n",
    "            #         goal = state # HER, with substituted goal=final_state\n",
    "            for t in range(len(ep_experience.memory)):\n",
    "                for k in range(K):\n",
    "                    future = np.random.randint(t, len(ep_experience.memory))\n",
    "                    goal = ep_experience.memory[future][3] # next_state of future\n",
    "                    state = ep_experience.memory[t][0]\n",
    "                    action = ep_experience.memory[t][1]\n",
    "                    next_state = ep_experience.memory[t][3]\n",
    "                    done = np.array_equal(next_state, goal)\n",
    "                    reward = 0 if done else -1\n",
    "                    ep_experience_her.add(state, action, reward, next_state, done, goal)\n",
    "\n",
    "        agent.remember(ep_experience)\n",
    "        agent.remember(ep_experience_her)\n",
    "        ep_experience.clear()\n",
    "        ep_experience_her.clear()\n",
    "\n",
    "    mean_loss = agent.replay(optimization_steps)\n",
    "    agent.update_target_net()\n",
    "    \n",
    "    losses.append(mean_loss)\n",
    "    success_rate.append(successes/num_episodes)\n",
    "    print(\"\\repoch\", i+1, \"success rate\", success_rate[-1], 'loss %.2f'%losses[-1], 'exploration %.2f'%agent.epsilon, end=' '*10)\n",
    "\n",
    "print(\"Training time : %.2f\"%(time.clock()-start), \"s\")"
   ]
  },
  {
   "cell_type": "code",
   "execution_count": 6,
   "metadata": {
    "scrolled": true
   },
   "outputs": [
    {
     "data": {
      "text/plain": [
       "'model/30bits.ckpt'"
      ]
     },
     "execution_count": 6,
     "metadata": {},
     "output_type": "execute_result"
    }
   ],
   "source": [
    "agent.saver.save(agent.sess, 'model/'+str(size)+'bits.ckpt')"
   ]
  },
  {
   "cell_type": "code",
   "execution_count": 7,
   "metadata": {},
   "outputs": [
    {
     "data": {
      "image/png": "[encoded data removed]",
      "text/plain": [
       "<matplotlib.figure.Figure at 0x2aaf2cfbdc18>"
      ]
     },
     "metadata": {},
     "output_type": "display_data"
    }
   ],
   "source": [
    "plt.title('Q loss')\n",
    "plt.plot(losses)\n",
    "plt.show()"
   ]
  },
  {
   "cell_type": "code",
   "execution_count": 8,
   "metadata": {
    "scrolled": true
   },
   "outputs": [
    {
     "data": {
      "image/png": "[encoded data removed]",
      "text/plain": [
       "<matplotlib.figure.Figure at 0x2aaed886e4e0>"
      ]
     },
     "metadata": {},
     "output_type": "display_data"
    }
   ],
   "source": [
    "plt.title('Success rate')\n",
    "plt.plot(success_rate)\n",
    "plt.show()"
   ]
  },
  {
   "cell_type": "markdown",
   "metadata": {},
   "source": [
    "____\n",
    "# Testing"
   ]
  },
  {
   "cell_type": "code",
   "execution_count": 9,
   "metadata": {},
   "outputs": [
    {
     "name": "stdout",
     "output_type": "stream",
     "text": [
      "INFO:tensorflow:Restoring parameters from model/30bits.ckpt\n",
      "goal  : [0 0 0 1 1 1 0 0 0 1 1 0 1 0 1 1 1 0 0 0 1 1 0 1 1 1 1 0 1 1]\n",
      "state : [0 0 1 0 1 1 0 0 1 1 1 1 1 1 0 1 1 1 1 0 0 0 1 0 0 0 0 1 1 0]          Success : False\n",
      "goal  : [0 0 0 1 1 1 1 0 1 1 1 1 1 0 1 1 1 1 0 0 1 0 1 1 0 1 1 1 1 1]\n",
      "state : [0 0 1 0 0 1 1 0 1 0 0 1 1 0 1 0 1 1 0 0 1 0 1 1 0 0 0 0 1 0]          Success : False\n",
      "goal  : [1 1 0 0 1 1 0 0 0 1 0 1 0 0 1 0 0 1 0 0 0 1 1 1 0 1 1 1 1 1]\n",
      "state : [1 0 0 0 0 1 0 1 0 0 0 1 0 1 0 0 1 0 0 0 0 1 0 0 0 1 1 0 1 1]          Success : False\n",
      "goal  : [0 0 0 1 0 0 0 1 0 0 0 1 0 0 0 0 1 0 1 0 0 1 0 0 0 1 0 1 0 0]\n",
      "state : [0 0 0 1 0 0 0 1 0 0 0 1 0 0 0 0 1 0 1 0 0 1 0 0 0 1 0 1 0 0]          Success : True\n",
      "goal  : [1 1 0 0 0 0 0 0 1 1 0 0 1 1 1 0 0 1 0 0 1 1 0 0 0 1 1 1 1 0]\n",
      "state : [1 1 0 0 1 1 0 1 1 0 1 1 0 0 1 1 0 1 0 1 0 0 0 0 1 1 1 0 1 1]          Success : False\n"
     ]
    }
   ],
   "source": [
    "load_model = True\n",
    "\n",
    "if load_model:\n",
    "    agent.saver.restore(agent.sess, 'model/'+str(size)+'bits.ckpt')\n",
    "\n",
    "for _ in range(5):\n",
    "    state, goal = env.reset()\n",
    "    print(\"goal  :\", np.array_str(goal))\n",
    "    for t in range(size):\n",
    "        action = agent.choose_action([state], [goal])\n",
    "        next_state, reward, done = env.step(action)\n",
    "        state = next_state\n",
    "        env.render()\n",
    "        time.sleep(0.5)\n",
    "        if done:\n",
    "            break\n",
    "    print(\"Success :\", done)"
   ]
  },
  {
   "cell_type": "code",
   "execution_count": null,
   "metadata": {
    "collapsed": true
   },
   "outputs": [],
   "source": []
  }
 ],
 "metadata": {
  "kernelspec": {
   "display_name": "Python 3",
   "language": "python",
   "name": "python3"
  },
  "language_info": {
   "codemirror_mode": {
    "name": "ipython",
    "version": 3
   },
   "file_extension": ".py",
   "mimetype": "text/x-python",
   "name": "python",
   "nbconvert_exporter": "python",
   "pygments_lexer": "ipython3",
   "version": "3.6.4"
  }
 },
 "nbformat": 4,
 "nbformat_minor": 2
}
